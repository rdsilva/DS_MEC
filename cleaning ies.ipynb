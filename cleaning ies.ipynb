{
 "cells": [
  {
   "cell_type": "markdown",
   "metadata": {},
   "source": [
    "Ministério da Educação - Sistema e-MEC\t\n",
    "Relatório da Consulta Avançada\t\n",
    "Resultado da Consulta Por :   Instituição de Ensino Superior\t\n",
    "Relatório Processado : 13/06/2018 - 12:21:30    Total de Registro(s) : 2950\t"
   ]
  },
  {
   "cell_type": "code",
   "execution_count": 1,
   "metadata": {},
   "outputs": [],
   "source": [
    "ies <- read.csv2(\"ies_Brasil.csv\", header=TRUE, sep=\";\")"
   ]
  },
  {
   "cell_type": "code",
   "execution_count": 2,
   "metadata": {},
   "outputs": [
    {
     "name": "stdout",
     "output_type": "stream",
     "text": [
      "'data.frame':\t2950 obs. of  21 variables:\n",
      " $ Código.Mantenedora      : int  323 16500 2371 2371 2371 16218 1073 2545 774 31 ...\n",
      " $ Razão.Social            : Factor w/ 1957 levels \"A. REGIAO TOCANTINA DE EDUCACAO E CULTURA LTDA.\",..: 69 522 1179 1179 1179 275 492 1283 1644 769 ...\n",
      " $ CNPJ                    : Factor w/ 1977 levels \"00.038.174/0001-43\",..: 1493 23 660 660 660 1331 1942 1238 253 1249 ...\n",
      " $ Natureza.Jurídica       : Factor w/ 12 levels \"Fundação Pública de Direito Privado Municipal\",..: 12 9 11 11 11 11 11 12 11 8 ...\n",
      " $ Código.IES              : int  2565 21095 3756 18520 18692 19853 1636 4053 1138 31 ...\n",
      " $ Instituição.IES.        : Factor w/ 2946 levels \"ABEU - CENTRO UNIVERSITÁRIO (UNIABEU)\",..: 1 2 3 4 5 6 7 8 9 10 ...\n",
      " $ Sigla                   : Factor w/ 2053 levels \"-\",\"28 de Agosto\",..: 1839 14 1 12 11 26 38 59 60 2046 ...\n",
      " $ Endereço                : Factor w/ 2861 levels \"108 Sul Al. 11 - 03 - Alameda 11 - CEP: 77020-122 - Centro\",..: 2082 4 2749 1831 2789 1980 777 350 1646 195 ...\n",
      " $ Município               : Factor w/ 790 levels \"Abaetetuba\",\"Açailândia\",..: 86 596 17 38 267 406 148 87 95 87 ...\n",
      " $ UF                      : Factor w/ 27 levels \"AC\",\"AL\",\"AM\",..: 19 19 11 11 11 18 23 11 24 11 ...\n",
      " $ Organização.Acadêmica   : Factor w/ 5 levels \"Centro Federal de Educação Tecnológica\",..: 2 3 3 3 3 3 3 3 3 3 ...\n",
      " $ Tipo.de.Credenciamento  : Factor w/ 4 levels \"EAD - Lato-sensu / Presencial - Superior\",..: 4 4 3 4 4 4 4 4 4 4 ...\n",
      " $ Categoria               : Factor w/ 2 levels \"Privada\",\"Pública\": 1 2 1 1 1 1 1 1 1 2 ...\n",
      " $ Categoria.Administrativa: Factor w/ 6 levels \"Especial\",\"Privada com fins lucrativos\",..: 3 5 2 2 2 2 2 3 2 4 ...\n",
      " $ CI                      : Factor w/ 6 levels \"-\",\"1\",\"2\",\"3\",..: 5 1 4 4 4 4 5 4 1 1 ...\n",
      " $ Ano.CI                  : int  2015 NA 2013 2015 2015 2016 2015 2011 NA NA ...\n",
      " $ CI.EaD                  : Factor w/ 4 levels \"-\",\"3\",\"4\",\"5\": 1 1 2 1 1 1 1 1 1 1 ...\n",
      " $ Ano.CI.EaD              : int  NA NA 2015 NA NA NA NA NA NA NA ...\n",
      " $ IGC                     : Factor w/ 7 levels \"-\",\"1\",\"2\",\"3\",..: 4 1 3 1 1 1 3 4 4 1 ...\n",
      " $ Ano.IGC                 : int  2016 NA 2016 NA NA NA 2011 2014 2008 NA ...\n",
      " $ Situação                : Factor w/ 1 level \"Ativa\": 1 1 1 1 1 1 1 1 1 1 ...\n"
     ]
    }
   ],
   "source": [
    "str(ies)"
   ]
  },
  {
   "cell_type": "code",
   "execution_count": 3,
   "metadata": {},
   "outputs": [
    {
     "data": {
      "text/plain": [
       " Código.Mantenedora                                              Razão.Social \n",
       " Min.   :    1.0    UNIESP S.A                                         : 108  \n",
       " 1st Qu.:  615.2    CENTRO ESTADUAL DE EDUCACAO TECNOLOGICA PAULA SOUZA:  54  \n",
       " Median : 1632.5    ANHANGUERA EDUCACIONAL PARTICIPACOES S/A           :  48  \n",
       " Mean   : 5335.8    SER EDUCACIONAL S.A.                               :  45  \n",
       " 3rd Qu.:13954.2    EDITORA E DISTRIBUIDORA EDUCACIONAL S/A            :  42  \n",
       " Max.   :17109.0    FUNDACAO PRESIDENTE ANTONIO CARLOS                 :  38  \n",
       "                    (Other)                                            :2615  \n",
       "                 CNPJ     \n",
       " 19.347.410/0001-31: 108  \n",
       " 62.823.257/0001-09:  54  \n",
       " 04.310.392/0001-46:  48  \n",
       " 04.986.320/0001-13:  45  \n",
       " 38.733.648/0001-40:  42  \n",
       " 17.080.078/0001-66:  38  \n",
       " (Other)           :2615  \n",
       "                                                                  Natureza.Jurídica\n",
       " Privada com fins lucrativos                                               :1251   \n",
       " Privada sem fins lucrativos                                               : 773   \n",
       " Pessoa Jurídica de Direito Privado - Com fins lucrativos - Sociedade Civil: 282   \n",
       " Pessoa Jurídica de Direito Privado - Sem fins lucrativos - Fundação       : 137   \n",
       " Pessoa Jurídica de Direito Público - Estadual                             : 115   \n",
       " Pessoa Jurídica de Direito Público - Federal                              : 109   \n",
       " (Other)                                                                   : 283   \n",
       "   Código.IES                                      Instituição.IES.\n",
       " Min.   :    1   FACULDADE BRASILEIRA DE TECNOLOGIA (FBT)  :   2   \n",
       " 1st Qu.: 1410   FACULDADE DE CIÊNCIAS SOCIAIS APLICADAS   :   2   \n",
       " Median : 2826   FACULDADE LA SALLE                        :   2   \n",
       " Mean   : 6390   FACULDADE SANTA RITA (FASAR)              :   2   \n",
       " 3rd Qu.:13284   ABEU - CENTRO UNIVERSITÁRIO (UNIABEU)     :   1   \n",
       " Max.   :23438   Academia Militar das Agulhas Negras (AMAN):   1   \n",
       "                 (Other)                                   :2940   \n",
       "     Sigla     \n",
       " -      : 471  \n",
       " FAP    :  20  \n",
       " FATEC  :  14  \n",
       " FAMA   :  13  \n",
       " ITPAC  :  10  \n",
       " DOCTUM :   8  \n",
       " (Other):2414  \n",
       "                                                                               Endereço   \n",
       " Avenida Filadélfia - 568 - s/c - CEP: 77816-530 - Setor Oeste                     :  11  \n",
       " Avenida Paulo Cezar Pereira Aranda - 241 - s/c - CEP: 78850-000 - Jardim Riva     :   4  \n",
       " Avenida Avenida Luiz Tarquínio Pontes - 600 - s/c - CEP: 42702-420 - Centro       :   3  \n",
       " Avenida Celso Garcia Cid - 1523 - - de 957/958 ao fim - CEP: 86039-000 - Vila Siam:   3  \n",
       " Avenida Doutor Vicente Machado - 585 - s/c - CEP: 84010-000 - Centro              :   3  \n",
       " Avenida Getúlio Vargas - 547 - s/c - CEP: 36240-000 - Centro                      :   3  \n",
       " (Other)                                                                           :2923  \n",
       "          Município          UF      \n",
       " São Paulo     : 196   SP     : 702  \n",
       " Brasília      :  82   MG     : 363  \n",
       " Rio de Janeiro:  81   PR     : 240  \n",
       " Curitiba      :  70   BA     : 157  \n",
       " Belo Horizonte:  66   RJ     : 151  \n",
       " Salvador      :  50   PE     : 139  \n",
       " (Other)       :2405   (Other):1198  \n",
       "                                         Organização.Acadêmica\n",
       " Centro Federal de Educação Tecnológica             :   2     \n",
       " Centro Universitário                               : 212     \n",
       " Faculdade                                          :2500     \n",
       " Instituto Federal de Educação, Ciência e Tecnologia:  38     \n",
       " Universidade                                       : 198     \n",
       "                                                              \n",
       "                                                              \n",
       "                              Tipo.de.Credenciamento   Categoria   \n",
       " EAD - Lato-sensu / Presencial - Superior:   6       Privada:2658  \n",
       " EAD - Superior                          :   4       Pública: 292  \n",
       " EAD - Superior / Presencial - Superior  : 451                     \n",
       " Presencial - Superior                   :2489                     \n",
       "                                                                   \n",
       "                                                                   \n",
       "                                                                   \n",
       "                Categoria.Administrativa CI           Ano.CI     CI.EaD  \n",
       " Especial                   :  26        -: 327   Min.   :2006   -:2725  \n",
       " Privada com fins lucrativos:1552        1:  11   1st Qu.:2011   3:  47  \n",
       " Privada sem fins lucrativos:1105        2:  51   Median :2015   4: 132  \n",
       " Pública Estadual           : 115        3:1550   Mean   :2014   5:  46  \n",
       " Pública Federal            : 109        4: 899   3rd Qu.:2017           \n",
       " Pública Municipal          :  43        5: 112   Max.   :2018           \n",
       "                                                  NA's   :324            \n",
       "   Ano.CI.EaD   IGC          Ano.IGC      Situação   \n",
       " Min.   :2010   - : 682   Min.   :2007   Ativa:2950  \n",
       " 1st Qu.:2013   1 :  11   1st Qu.:2016               \n",
       " Median :2015   2 : 329   Median :2016               \n",
       " Mean   :2015   3 :1420   Mean   :2016               \n",
       " 3rd Qu.:2016   4 : 366   3rd Qu.:2016               \n",
       " Max.   :2017   5 :  31   Max.   :2016               \n",
       " NA's   :2725   SC: 111   NA's   :682                "
      ]
     },
     "metadata": {},
     "output_type": "display_data"
    }
   ],
   "source": [
    "summary(ies)"
   ]
  },
  {
   "cell_type": "code",
   "execution_count": 16,
   "metadata": {},
   "outputs": [],
   "source": [
    "# filtrar\n",
    "\n",
    "# Código.IES\n",
    "# Instituição.IES.\n",
    "# Sigla\n",
    "# Município\n",
    "# UF\n",
    "\n",
    "universidades <- subset(ies, select = c(\"Código.IES\", \"Instituição.IES.\", \"Município\", \"UF\"))"
   ]
  },
  {
   "cell_type": "code",
   "execution_count": 17,
   "metadata": {},
   "outputs": [
    {
     "name": "stdout",
     "output_type": "stream",
     "text": [
      "'data.frame':\t2950 obs. of  4 variables:\n",
      " $ Código.IES      : int  2565 21095 3756 18520 18692 19853 1636 4053 1138 31 ...\n",
      " $ Instituição.IES.: Factor w/ 2946 levels \"ABEU - CENTRO UNIVERSITÁRIO (UNIABEU)\",..: 1 2 3 4 5 6 7 8 9 10 ...\n",
      " $ Município       : Factor w/ 790 levels \"Abaetetuba\",\"Açailândia\",..: 86 596 17 38 267 406 148 87 95 87 ...\n",
      " $ UF              : Factor w/ 27 levels \"AC\",\"AL\",\"AM\",..: 19 19 11 11 11 18 23 11 24 11 ...\n"
     ]
    }
   ],
   "source": [
    "str(universidades)"
   ]
  },
  {
   "cell_type": "code",
   "execution_count": 18,
   "metadata": {},
   "outputs": [],
   "source": [
    "names(universidades)[1] <- \"codigo\"\n",
    "names(universidades)[2] <- \"instituicao\"\n",
    "names(universidades)[3] <- \"municipio\"\n",
    "names(universidades)[4] <- \"uf\""
   ]
  },
  {
   "cell_type": "code",
   "execution_count": 19,
   "metadata": {},
   "outputs": [
    {
     "name": "stdout",
     "output_type": "stream",
     "text": [
      "'data.frame':\t2950 obs. of  4 variables:\n",
      " $ codigo     : int  2565 21095 3756 18520 18692 19853 1636 4053 1138 31 ...\n",
      " $ instituicao: Factor w/ 2946 levels \"ABEU - CENTRO UNIVERSITÁRIO (UNIABEU)\",..: 1 2 3 4 5 6 7 8 9 10 ...\n",
      " $ municipio  : Factor w/ 790 levels \"Abaetetuba\",\"Açailândia\",..: 86 596 17 38 267 406 148 87 95 87 ...\n",
      " $ uf         : Factor w/ 27 levels \"AC\",\"AL\",\"AM\",..: 19 19 11 11 11 18 23 11 24 11 ...\n"
     ]
    }
   ],
   "source": [
    "str(universidades)"
   ]
  },
  {
   "cell_type": "code",
   "execution_count": 20,
   "metadata": {},
   "outputs": [],
   "source": [
    "universidades$codigo <- as.character(universidades$codigo)"
   ]
  },
  {
   "cell_type": "code",
   "execution_count": 21,
   "metadata": {},
   "outputs": [],
   "source": [
    "library(stringr)"
   ]
  },
  {
   "cell_type": "code",
   "execution_count": 22,
   "metadata": {},
   "outputs": [],
   "source": [
    "universidades$codigo <- str_pad(universidades$codigo, 6, \"left\", \"0\")"
   ]
  },
  {
   "cell_type": "code",
   "execution_count": 23,
   "metadata": {},
   "outputs": [
    {
     "name": "stdout",
     "output_type": "stream",
     "text": [
      "'data.frame':\t2950 obs. of  4 variables:\n",
      " $ codigo     : chr  \"002565\" \"021095\" \"003756\" \"018520\" ...\n",
      " $ instituicao: Factor w/ 2946 levels \"ABEU - CENTRO UNIVERSITÁRIO (UNIABEU)\",..: 1 2 3 4 5 6 7 8 9 10 ...\n",
      " $ municipio  : Factor w/ 790 levels \"Abaetetuba\",\"Açailândia\",..: 86 596 17 38 267 406 148 87 95 87 ...\n",
      " $ uf         : Factor w/ 27 levels \"AC\",\"AL\",\"AM\",..: 19 19 11 11 11 18 23 11 24 11 ...\n"
     ]
    }
   ],
   "source": [
    "str(universidades)"
   ]
  },
  {
   "cell_type": "code",
   "execution_count": 24,
   "metadata": {},
   "outputs": [],
   "source": [
    "write.csv2(universidades,\"ies_inovasus.csv\", row.names=FALSE)"
   ]
  },
  {
   "cell_type": "code",
   "execution_count": null,
   "metadata": {},
   "outputs": [],
   "source": []
  }
 ],
 "metadata": {
  "kernelspec": {
   "display_name": "R",
   "language": "R",
   "name": "ir"
  },
  "language_info": {
   "codemirror_mode": "r",
   "file_extension": ".r",
   "mimetype": "text/x-r-source",
   "name": "R",
   "pygments_lexer": "r",
   "version": "3.4.2"
  }
 },
 "nbformat": 4,
 "nbformat_minor": 2
}
